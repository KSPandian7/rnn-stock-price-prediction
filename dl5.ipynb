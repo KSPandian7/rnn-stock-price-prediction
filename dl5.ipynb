{
  "nbformat": 4,
  "nbformat_minor": 0,
  "metadata": {
    "colab": {
      "provenance": [],
      "gpuType": "T4",
      "authorship_tag": "ABX9TyPvYRYzlmTxbVc8xUbnr7Jr",
      "include_colab_link": true
    },
    "kernelspec": {
      "name": "python3",
      "display_name": "Python 3"
    },
    "language_info": {
      "name": "python"
    },
    "accelerator": "GPU"
  },
  "cells": [
    {
      "cell_type": "markdown",
      "metadata": {
        "id": "view-in-github",
        "colab_type": "text"
      },
      "source": [
        "<a href=\"https://colab.research.google.com/github/KSPandian7/rnn-stock-price-prediction/blob/main/dl5.ipynb\" target=\"_parent\"><img src=\"https://colab.research.google.com/assets/colab-badge.svg\" alt=\"Open In Colab\"/></a>"
      ]
    },
    {
      "cell_type": "code",
      "execution_count": null,
      "metadata": {
        "id": "WJYxEA-AD-Vp"
      },
      "outputs": [],
      "source": [
        "import numpy as np\n",
        "import matplotlib.pyplot as plt\n",
        "import pandas as pd\n",
        "from sklearn.preprocessing import MinMaxScaler\n",
        "from keras import layers\n",
        "from keras.models import Sequential"
      ]
    },
    {
      "cell_type": "code",
      "source": [
        "dataset_train = pd.read_csv('trainset.csv')"
      ],
      "metadata": {
        "id": "eepzxyA6FETC"
      },
      "execution_count": null,
      "outputs": []
    },
    {
      "cell_type": "code",
      "source": [
        "dataset_train.columns"
      ],
      "metadata": {
        "colab": {
          "base_uri": "https://localhost:8080/"
        },
        "id": "3k1naWYQErn3",
        "outputId": "87ab75f3-afe7-4f01-dc4a-29f4c3140c03"
      },
      "execution_count": null,
      "outputs": [
        {
          "output_type": "execute_result",
          "data": {
            "text/plain": [
              "Index(['Date', 'Open', 'High', 'Low', 'Close', 'Adj Close', 'Volume'], dtype='object')"
            ]
          },
          "metadata": {},
          "execution_count": 11
        }
      ]
    },
    {
      "cell_type": "code",
      "source": [
        "dataset_train.shape"
      ],
      "metadata": {
        "colab": {
          "base_uri": "https://localhost:8080/"
        },
        "id": "xQi6d5OtE9dy",
        "outputId": "5592fd39-0f39-4937-a787-07ec23db35a2"
      },
      "execution_count": null,
      "outputs": [
        {
          "output_type": "execute_result",
          "data": {
            "text/plain": [
              "(1259, 7)"
            ]
          },
          "metadata": {},
          "execution_count": 12
        }
      ]
    },
    {
      "cell_type": "code",
      "source": [
        "dataset_train = pd.read_csv('trainset.csv')"
      ],
      "metadata": {
        "id": "KJnZBuW4EpF2"
      },
      "execution_count": null,
      "outputs": []
    },
    {
      "cell_type": "code",
      "source": [
        "dataset_train.head()"
      ],
      "metadata": {
        "colab": {
          "base_uri": "https://localhost:8080/",
          "height": 206
        },
        "id": "smyVPGw3EtHE",
        "outputId": "572869db-551c-443a-9ec9-daf9d1a73dad"
      },
      "execution_count": null,
      "outputs": [
        {
          "output_type": "execute_result",
          "data": {
            "text/plain": [
              "         Date        Open        High         Low       Close   Adj Close  \\\n",
              "0  2013-01-02  357.385559  361.151062  355.959839  359.288177  359.288177   \n",
              "1  2013-01-03  360.122742  363.600128  358.031342  359.496826  359.496826   \n",
              "2  2013-01-04  362.313507  368.339294  361.488861  366.600616  366.600616   \n",
              "3  2013-01-07  365.348755  367.301056  362.929504  365.001007  365.001007   \n",
              "4  2013-01-08  365.393463  365.771027  359.874359  364.280701  364.280701   \n",
              "\n",
              "    Volume  \n",
              "0  5115500  \n",
              "1  4666500  \n",
              "2  5562800  \n",
              "3  3332900  \n",
              "4  3373900  "
            ],
            "text/html": [
              "\n",
              "  <div id=\"df-08a8e88a-04f4-49d7-ad25-bda5483a880d\" class=\"colab-df-container\">\n",
              "    <div>\n",
              "<style scoped>\n",
              "    .dataframe tbody tr th:only-of-type {\n",
              "        vertical-align: middle;\n",
              "    }\n",
              "\n",
              "    .dataframe tbody tr th {\n",
              "        vertical-align: top;\n",
              "    }\n",
              "\n",
              "    .dataframe thead th {\n",
              "        text-align: right;\n",
              "    }\n",
              "</style>\n",
              "<table border=\"1\" class=\"dataframe\">\n",
              "  <thead>\n",
              "    <tr style=\"text-align: right;\">\n",
              "      <th></th>\n",
              "      <th>Date</th>\n",
              "      <th>Open</th>\n",
              "      <th>High</th>\n",
              "      <th>Low</th>\n",
              "      <th>Close</th>\n",
              "      <th>Adj Close</th>\n",
              "      <th>Volume</th>\n",
              "    </tr>\n",
              "  </thead>\n",
              "  <tbody>\n",
              "    <tr>\n",
              "      <th>0</th>\n",
              "      <td>2013-01-02</td>\n",
              "      <td>357.385559</td>\n",
              "      <td>361.151062</td>\n",
              "      <td>355.959839</td>\n",
              "      <td>359.288177</td>\n",
              "      <td>359.288177</td>\n",
              "      <td>5115500</td>\n",
              "    </tr>\n",
              "    <tr>\n",
              "      <th>1</th>\n",
              "      <td>2013-01-03</td>\n",
              "      <td>360.122742</td>\n",
              "      <td>363.600128</td>\n",
              "      <td>358.031342</td>\n",
              "      <td>359.496826</td>\n",
              "      <td>359.496826</td>\n",
              "      <td>4666500</td>\n",
              "    </tr>\n",
              "    <tr>\n",
              "      <th>2</th>\n",
              "      <td>2013-01-04</td>\n",
              "      <td>362.313507</td>\n",
              "      <td>368.339294</td>\n",
              "      <td>361.488861</td>\n",
              "      <td>366.600616</td>\n",
              "      <td>366.600616</td>\n",
              "      <td>5562800</td>\n",
              "    </tr>\n",
              "    <tr>\n",
              "      <th>3</th>\n",
              "      <td>2013-01-07</td>\n",
              "      <td>365.348755</td>\n",
              "      <td>367.301056</td>\n",
              "      <td>362.929504</td>\n",
              "      <td>365.001007</td>\n",
              "      <td>365.001007</td>\n",
              "      <td>3332900</td>\n",
              "    </tr>\n",
              "    <tr>\n",
              "      <th>4</th>\n",
              "      <td>2013-01-08</td>\n",
              "      <td>365.393463</td>\n",
              "      <td>365.771027</td>\n",
              "      <td>359.874359</td>\n",
              "      <td>364.280701</td>\n",
              "      <td>364.280701</td>\n",
              "      <td>3373900</td>\n",
              "    </tr>\n",
              "  </tbody>\n",
              "</table>\n",
              "</div>\n",
              "    <div class=\"colab-df-buttons\">\n",
              "\n",
              "  <div class=\"colab-df-container\">\n",
              "    <button class=\"colab-df-convert\" onclick=\"convertToInteractive('df-08a8e88a-04f4-49d7-ad25-bda5483a880d')\"\n",
              "            title=\"Convert this dataframe to an interactive table.\"\n",
              "            style=\"display:none;\">\n",
              "\n",
              "  <svg xmlns=\"http://www.w3.org/2000/svg\" height=\"24px\" viewBox=\"0 -960 960 960\">\n",
              "    <path d=\"M120-120v-720h720v720H120Zm60-500h600v-160H180v160Zm220 220h160v-160H400v160Zm0 220h160v-160H400v160ZM180-400h160v-160H180v160Zm440 0h160v-160H620v160ZM180-180h160v-160H180v160Zm440 0h160v-160H620v160Z\"/>\n",
              "  </svg>\n",
              "    </button>\n",
              "\n",
              "  <style>\n",
              "    .colab-df-container {\n",
              "      display:flex;\n",
              "      gap: 12px;\n",
              "    }\n",
              "\n",
              "    .colab-df-convert {\n",
              "      background-color: #E8F0FE;\n",
              "      border: none;\n",
              "      border-radius: 50%;\n",
              "      cursor: pointer;\n",
              "      display: none;\n",
              "      fill: #1967D2;\n",
              "      height: 32px;\n",
              "      padding: 0 0 0 0;\n",
              "      width: 32px;\n",
              "    }\n",
              "\n",
              "    .colab-df-convert:hover {\n",
              "      background-color: #E2EBFA;\n",
              "      box-shadow: 0px 1px 2px rgba(60, 64, 67, 0.3), 0px 1px 3px 1px rgba(60, 64, 67, 0.15);\n",
              "      fill: #174EA6;\n",
              "    }\n",
              "\n",
              "    .colab-df-buttons div {\n",
              "      margin-bottom: 4px;\n",
              "    }\n",
              "\n",
              "    [theme=dark] .colab-df-convert {\n",
              "      background-color: #3B4455;\n",
              "      fill: #D2E3FC;\n",
              "    }\n",
              "\n",
              "    [theme=dark] .colab-df-convert:hover {\n",
              "      background-color: #434B5C;\n",
              "      box-shadow: 0px 1px 3px 1px rgba(0, 0, 0, 0.15);\n",
              "      filter: drop-shadow(0px 1px 2px rgba(0, 0, 0, 0.3));\n",
              "      fill: #FFFFFF;\n",
              "    }\n",
              "  </style>\n",
              "\n",
              "    <script>\n",
              "      const buttonEl =\n",
              "        document.querySelector('#df-08a8e88a-04f4-49d7-ad25-bda5483a880d button.colab-df-convert');\n",
              "      buttonEl.style.display =\n",
              "        google.colab.kernel.accessAllowed ? 'block' : 'none';\n",
              "\n",
              "      async function convertToInteractive(key) {\n",
              "        const element = document.querySelector('#df-08a8e88a-04f4-49d7-ad25-bda5483a880d');\n",
              "        const dataTable =\n",
              "          await google.colab.kernel.invokeFunction('convertToInteractive',\n",
              "                                                    [key], {});\n",
              "        if (!dataTable) return;\n",
              "\n",
              "        const docLinkHtml = 'Like what you see? Visit the ' +\n",
              "          '<a target=\"_blank\" href=https://colab.research.google.com/notebooks/data_table.ipynb>data table notebook</a>'\n",
              "          + ' to learn more about interactive tables.';\n",
              "        element.innerHTML = '';\n",
              "        dataTable['output_type'] = 'display_data';\n",
              "        await google.colab.output.renderOutput(dataTable, element);\n",
              "        const docLink = document.createElement('div');\n",
              "        docLink.innerHTML = docLinkHtml;\n",
              "        element.appendChild(docLink);\n",
              "      }\n",
              "    </script>\n",
              "  </div>\n",
              "\n",
              "\n",
              "<div id=\"df-101373a0-7e44-45ee-a7b8-ae803f9dc42c\">\n",
              "  <button class=\"colab-df-quickchart\" onclick=\"quickchart('df-101373a0-7e44-45ee-a7b8-ae803f9dc42c')\"\n",
              "            title=\"Suggest charts\"\n",
              "            style=\"display:none;\">\n",
              "\n",
              "<svg xmlns=\"http://www.w3.org/2000/svg\" height=\"24px\"viewBox=\"0 0 24 24\"\n",
              "     width=\"24px\">\n",
              "    <g>\n",
              "        <path d=\"M19 3H5c-1.1 0-2 .9-2 2v14c0 1.1.9 2 2 2h14c1.1 0 2-.9 2-2V5c0-1.1-.9-2-2-2zM9 17H7v-7h2v7zm4 0h-2V7h2v10zm4 0h-2v-4h2v4z\"/>\n",
              "    </g>\n",
              "</svg>\n",
              "  </button>\n",
              "\n",
              "<style>\n",
              "  .colab-df-quickchart {\n",
              "      --bg-color: #E8F0FE;\n",
              "      --fill-color: #1967D2;\n",
              "      --hover-bg-color: #E2EBFA;\n",
              "      --hover-fill-color: #174EA6;\n",
              "      --disabled-fill-color: #AAA;\n",
              "      --disabled-bg-color: #DDD;\n",
              "  }\n",
              "\n",
              "  [theme=dark] .colab-df-quickchart {\n",
              "      --bg-color: #3B4455;\n",
              "      --fill-color: #D2E3FC;\n",
              "      --hover-bg-color: #434B5C;\n",
              "      --hover-fill-color: #FFFFFF;\n",
              "      --disabled-bg-color: #3B4455;\n",
              "      --disabled-fill-color: #666;\n",
              "  }\n",
              "\n",
              "  .colab-df-quickchart {\n",
              "    background-color: var(--bg-color);\n",
              "    border: none;\n",
              "    border-radius: 50%;\n",
              "    cursor: pointer;\n",
              "    display: none;\n",
              "    fill: var(--fill-color);\n",
              "    height: 32px;\n",
              "    padding: 0;\n",
              "    width: 32px;\n",
              "  }\n",
              "\n",
              "  .colab-df-quickchart:hover {\n",
              "    background-color: var(--hover-bg-color);\n",
              "    box-shadow: 0 1px 2px rgba(60, 64, 67, 0.3), 0 1px 3px 1px rgba(60, 64, 67, 0.15);\n",
              "    fill: var(--button-hover-fill-color);\n",
              "  }\n",
              "\n",
              "  .colab-df-quickchart-complete:disabled,\n",
              "  .colab-df-quickchart-complete:disabled:hover {\n",
              "    background-color: var(--disabled-bg-color);\n",
              "    fill: var(--disabled-fill-color);\n",
              "    box-shadow: none;\n",
              "  }\n",
              "\n",
              "  .colab-df-spinner {\n",
              "    border: 2px solid var(--fill-color);\n",
              "    border-color: transparent;\n",
              "    border-bottom-color: var(--fill-color);\n",
              "    animation:\n",
              "      spin 1s steps(1) infinite;\n",
              "  }\n",
              "\n",
              "  @keyframes spin {\n",
              "    0% {\n",
              "      border-color: transparent;\n",
              "      border-bottom-color: var(--fill-color);\n",
              "      border-left-color: var(--fill-color);\n",
              "    }\n",
              "    20% {\n",
              "      border-color: transparent;\n",
              "      border-left-color: var(--fill-color);\n",
              "      border-top-color: var(--fill-color);\n",
              "    }\n",
              "    30% {\n",
              "      border-color: transparent;\n",
              "      border-left-color: var(--fill-color);\n",
              "      border-top-color: var(--fill-color);\n",
              "      border-right-color: var(--fill-color);\n",
              "    }\n",
              "    40% {\n",
              "      border-color: transparent;\n",
              "      border-right-color: var(--fill-color);\n",
              "      border-top-color: var(--fill-color);\n",
              "    }\n",
              "    60% {\n",
              "      border-color: transparent;\n",
              "      border-right-color: var(--fill-color);\n",
              "    }\n",
              "    80% {\n",
              "      border-color: transparent;\n",
              "      border-right-color: var(--fill-color);\n",
              "      border-bottom-color: var(--fill-color);\n",
              "    }\n",
              "    90% {\n",
              "      border-color: transparent;\n",
              "      border-bottom-color: var(--fill-color);\n",
              "    }\n",
              "  }\n",
              "</style>\n",
              "\n",
              "  <script>\n",
              "    async function quickchart(key) {\n",
              "      const quickchartButtonEl =\n",
              "        document.querySelector('#' + key + ' button');\n",
              "      quickchartButtonEl.disabled = true;  // To prevent multiple clicks.\n",
              "      quickchartButtonEl.classList.add('colab-df-spinner');\n",
              "      try {\n",
              "        const charts = await google.colab.kernel.invokeFunction(\n",
              "            'suggestCharts', [key], {});\n",
              "      } catch (error) {\n",
              "        console.error('Error during call to suggestCharts:', error);\n",
              "      }\n",
              "      quickchartButtonEl.classList.remove('colab-df-spinner');\n",
              "      quickchartButtonEl.classList.add('colab-df-quickchart-complete');\n",
              "    }\n",
              "    (() => {\n",
              "      let quickchartButtonEl =\n",
              "        document.querySelector('#df-101373a0-7e44-45ee-a7b8-ae803f9dc42c button');\n",
              "      quickchartButtonEl.style.display =\n",
              "        google.colab.kernel.accessAllowed ? 'block' : 'none';\n",
              "    })();\n",
              "  </script>\n",
              "</div>\n",
              "\n",
              "    </div>\n",
              "  </div>\n"
            ],
            "application/vnd.google.colaboratory.intrinsic+json": {
              "type": "dataframe",
              "variable_name": "dataset_train",
              "summary": "{\n  \"name\": \"dataset_train\",\n  \"rows\": 1259,\n  \"fields\": [\n    {\n      \"column\": \"Date\",\n      \"properties\": {\n        \"dtype\": \"object\",\n        \"num_unique_values\": 1259,\n        \"samples\": [\n          \"2013-04-23\",\n          \"2017-01-30\",\n          \"2013-03-06\"\n        ],\n        \"semantic_type\": \"\",\n        \"description\": \"\"\n      }\n    },\n    {\n      \"column\": \"Open\",\n      \"properties\": {\n        \"dtype\": \"number\",\n        \"std\": 175.63057351209417,\n        \"min\": 350.053253,\n        \"max\": 1075.199951,\n        \"num_unique_values\": 1228,\n        \"samples\": [\n          727.580017,\n          524.118103,\n          553.40564\n        ],\n        \"semantic_type\": \"\",\n        \"description\": \"\"\n      }\n    },\n    {\n      \"column\": \"High\",\n      \"properties\": {\n        \"dtype\": \"number\",\n        \"std\": 176.62741611717948,\n        \"min\": 350.391052,\n        \"max\": 1078.48999,\n        \"num_unique_values\": 1239,\n        \"samples\": [\n          580.309143,\n          577.489014,\n          517.056946\n        ],\n        \"semantic_type\": \"\",\n        \"description\": \"\"\n      }\n    },\n    {\n      \"column\": \"Low\",\n      \"properties\": {\n        \"dtype\": \"number\",\n        \"std\": 174.73281352959697,\n        \"min\": 345.512787,\n        \"max\": 1063.550049,\n        \"num_unique_values\": 1240,\n        \"samples\": [\n          576.052551,\n          568.403076,\n          518.469177\n        ],\n        \"semantic_type\": \"\",\n        \"description\": \"\"\n      }\n    },\n    {\n      \"column\": \"Close\",\n      \"properties\": {\n        \"dtype\": \"number\",\n        \"std\": 175.82099273815913,\n        \"min\": 349.164032,\n        \"max\": 1077.140015,\n        \"num_unique_values\": 1245,\n        \"samples\": [\n          749.460022,\n          557.812866,\n          927.330017\n        ],\n        \"semantic_type\": \"\",\n        \"description\": \"\"\n      }\n    },\n    {\n      \"column\": \"Adj Close\",\n      \"properties\": {\n        \"dtype\": \"number\",\n        \"std\": 175.82099273815913,\n        \"min\": 349.164032,\n        \"max\": 1077.140015,\n        \"num_unique_values\": 1245,\n        \"samples\": [\n          749.460022,\n          557.812866,\n          927.330017\n        ],\n        \"semantic_type\": \"\",\n        \"description\": \"\"\n      }\n    },\n    {\n      \"column\": \"Volume\",\n      \"properties\": {\n        \"dtype\": \"number\",\n        \"std\": 1672159,\n        \"min\": 7900,\n        \"max\": 23283100,\n        \"num_unique_values\": 1228,\n        \"samples\": [\n          1837200,\n          2000000,\n          1477800\n        ],\n        \"semantic_type\": \"\",\n        \"description\": \"\"\n      }\n    }\n  ]\n}"
            }
          },
          "metadata": {},
          "execution_count": 14
        }
      ]
    },
    {
      "cell_type": "code",
      "source": [
        "train_set = dataset_train.iloc[:,1:2].values"
      ],
      "metadata": {
        "id": "u_uRmJohEvK6"
      },
      "execution_count": null,
      "outputs": []
    },
    {
      "cell_type": "code",
      "source": [
        "type(train_set)"
      ],
      "metadata": {
        "colab": {
          "base_uri": "https://localhost:8080/"
        },
        "id": "rV7kzgFSEwsB",
        "outputId": "6c1bf082-20ed-48b3-f83a-ea9ba2bce163"
      },
      "execution_count": null,
      "outputs": [
        {
          "output_type": "execute_result",
          "data": {
            "text/plain": [
              "numpy.ndarray"
            ]
          },
          "metadata": {},
          "execution_count": 16
        }
      ]
    },
    {
      "cell_type": "code",
      "source": [
        "train_set.shape"
      ],
      "metadata": {
        "colab": {
          "base_uri": "https://localhost:8080/"
        },
        "id": "1Vr_XEWnE1KK",
        "outputId": "2dca3841-e38b-4295-f368-81f945d2bf3a"
      },
      "execution_count": null,
      "outputs": [
        {
          "output_type": "execute_result",
          "data": {
            "text/plain": [
              "(1259, 1)"
            ]
          },
          "metadata": {},
          "execution_count": 17
        }
      ]
    },
    {
      "cell_type": "code",
      "source": [
        "sc = MinMaxScaler(feature_range=(0,1))\n",
        "training_set_scaled = sc.fit_transform(train_set)"
      ],
      "metadata": {
        "id": "mLTm0nl1E45G"
      },
      "execution_count": null,
      "outputs": []
    },
    {
      "cell_type": "code",
      "source": [
        "training_set_scaled.shape"
      ],
      "metadata": {
        "colab": {
          "base_uri": "https://localhost:8080/"
        },
        "id": "A05Z88grFMdQ",
        "outputId": "7bb5e03a-cf90-4b32-a7a2-8887a664717c"
      },
      "execution_count": null,
      "outputs": [
        {
          "output_type": "execute_result",
          "data": {
            "text/plain": [
              "(1259, 1)"
            ]
          },
          "metadata": {},
          "execution_count": 19
        }
      ]
    },
    {
      "cell_type": "code",
      "source": [
        "X_train_array = []\n",
        "y_train_array = []\n",
        "for i in range(60, 1259):\n",
        "  X_train_array.append(training_set_scaled[i-60:i,0])\n",
        "  y_train_array.append(training_set_scaled[i,0])\n",
        "X_train, y_train = np.array(X_train_array), np.array(y_train_array)\n",
        "X_train1 = X_train.reshape((X_train.shape[0], X_train.shape[1],1))"
      ],
      "metadata": {
        "id": "nQrH6h0wFOW3"
      },
      "execution_count": null,
      "outputs": []
    },
    {
      "cell_type": "code",
      "source": [
        "X_train.shape"
      ],
      "metadata": {
        "colab": {
          "base_uri": "https://localhost:8080/"
        },
        "id": "kXcrqQpwFQ4y",
        "outputId": "c5e9b950-d39d-4a74-a5f3-42dc985624d0"
      },
      "execution_count": null,
      "outputs": [
        {
          "output_type": "execute_result",
          "data": {
            "text/plain": [
              "(1199, 60)"
            ]
          },
          "metadata": {},
          "execution_count": 21
        }
      ]
    },
    {
      "cell_type": "code",
      "source": [
        "length = 60\n",
        "n_features = 1"
      ],
      "metadata": {
        "id": "ctJpJJ2FFTxh"
      },
      "execution_count": null,
      "outputs": []
    },
    {
      "cell_type": "code",
      "source": [
        "model = Sequential()\n",
        "model.add(layers.SimpleRNN(60,input_shape=(length,n_features)))\n",
        "model.add(layers.Dense(1))\n",
        "model.compile(optimizer='adam', loss='mse')"
      ],
      "metadata": {
        "id": "3m1h7Gk-FW8R"
      },
      "execution_count": null,
      "outputs": []
    },
    {
      "cell_type": "code",
      "source": [
        "print(\"Name: KULASEKARAPANDIAN K      Register Number: 212222240052          \")\n",
        "model.summary()"
      ],
      "metadata": {
        "colab": {
          "base_uri": "https://localhost:8080/"
        },
        "id": "km_4dbqvF6Kh",
        "outputId": "62441a66-c689-4aa8-a2f5-345b400250c5"
      },
      "execution_count": null,
      "outputs": [
        {
          "output_type": "stream",
          "name": "stdout",
          "text": [
            "Name: KULASEKARAPANDIAN K      Register Number: 212222240052          \n",
            "Model: \"sequential_1\"\n",
            "_________________________________________________________________\n",
            " Layer (type)                Output Shape              Param #   \n",
            "=================================================================\n",
            " simple_rnn_1 (SimpleRNN)    (None, 60)                3720      \n",
            "                                                                 \n",
            " dense (Dense)               (None, 1)                 61        \n",
            "                                                                 \n",
            "=================================================================\n",
            "Total params: 3781 (14.77 KB)\n",
            "Trainable params: 3781 (14.77 KB)\n",
            "Non-trainable params: 0 (0.00 Byte)\n",
            "_________________________________________________________________\n"
          ]
        }
      ]
    },
    {
      "cell_type": "code",
      "source": [
        "model.fit(X_train1,y_train,epochs=100, batch_size=32)"
      ],
      "metadata": {
        "colab": {
          "base_uri": "https://localhost:8080/"
        },
        "id": "2tqgXl5lGLzZ",
        "outputId": "53c04422-a832-4814-896f-c52fee8b02f6"
      },
      "execution_count": null,
      "outputs": [
        {
          "output_type": "stream",
          "name": "stdout",
          "text": [
            "Epoch 1/100\n",
            "38/38 [==============================] - 1s 34ms/step - loss: 1.7345e-04\n",
            "Epoch 2/100\n",
            "38/38 [==============================] - 1s 33ms/step - loss: 1.8327e-04\n",
            "Epoch 3/100\n",
            "38/38 [==============================] - 1s 32ms/step - loss: 1.7503e-04\n",
            "Epoch 4/100\n",
            "38/38 [==============================] - 1s 32ms/step - loss: 1.7240e-04\n",
            "Epoch 5/100\n",
            "38/38 [==============================] - 1s 31ms/step - loss: 1.9648e-04\n",
            "Epoch 6/100\n",
            "38/38 [==============================] - 1s 32ms/step - loss: 1.9521e-04\n",
            "Epoch 7/100\n",
            "38/38 [==============================] - 1s 32ms/step - loss: 1.7797e-04\n",
            "Epoch 8/100\n",
            "38/38 [==============================] - 1s 39ms/step - loss: 1.9477e-04\n",
            "Epoch 9/100\n",
            "38/38 [==============================] - 2s 48ms/step - loss: 1.7062e-04\n",
            "Epoch 10/100\n",
            "38/38 [==============================] - 1s 32ms/step - loss: 1.8967e-04\n",
            "Epoch 11/100\n",
            "38/38 [==============================] - 1s 32ms/step - loss: 1.9025e-04\n",
            "Epoch 12/100\n",
            "38/38 [==============================] - 2s 50ms/step - loss: 1.6796e-04\n",
            "Epoch 13/100\n",
            "38/38 [==============================] - 2s 41ms/step - loss: 1.8750e-04\n",
            "Epoch 14/100\n",
            "38/38 [==============================] - 1s 32ms/step - loss: 1.7292e-04\n",
            "Epoch 15/100\n",
            "38/38 [==============================] - 1s 32ms/step - loss: 1.6445e-04\n",
            "Epoch 16/100\n",
            "38/38 [==============================] - 1s 36ms/step - loss: 1.7107e-04\n",
            "Epoch 17/100\n",
            "38/38 [==============================] - 2s 53ms/step - loss: 1.7091e-04\n",
            "Epoch 18/100\n",
            "38/38 [==============================] - 1s 32ms/step - loss: 2.1750e-04\n",
            "Epoch 19/100\n",
            "38/38 [==============================] - 1s 33ms/step - loss: 1.6381e-04\n",
            "Epoch 20/100\n",
            "38/38 [==============================] - 1s 32ms/step - loss: 1.6022e-04\n",
            "Epoch 21/100\n",
            "38/38 [==============================] - 1s 31ms/step - loss: 1.8582e-04\n",
            "Epoch 22/100\n",
            "38/38 [==============================] - 1s 32ms/step - loss: 1.6702e-04\n",
            "Epoch 23/100\n",
            "38/38 [==============================] - 1s 33ms/step - loss: 1.9420e-04\n",
            "Epoch 24/100\n",
            "38/38 [==============================] - 1s 32ms/step - loss: 1.6885e-04\n",
            "Epoch 25/100\n",
            "38/38 [==============================] - 1s 34ms/step - loss: 1.7536e-04\n",
            "Epoch 26/100\n",
            "38/38 [==============================] - 2s 55ms/step - loss: 1.8529e-04\n",
            "Epoch 27/100\n",
            "38/38 [==============================] - 2s 52ms/step - loss: 1.8415e-04\n",
            "Epoch 28/100\n",
            "38/38 [==============================] - 1s 38ms/step - loss: 1.7090e-04\n",
            "Epoch 29/100\n",
            "38/38 [==============================] - 1s 32ms/step - loss: 1.6276e-04\n",
            "Epoch 30/100\n",
            "38/38 [==============================] - 1s 33ms/step - loss: 1.6627e-04\n",
            "Epoch 31/100\n",
            "38/38 [==============================] - 1s 31ms/step - loss: 1.7366e-04\n",
            "Epoch 32/100\n",
            "38/38 [==============================] - 1s 32ms/step - loss: 1.5994e-04\n",
            "Epoch 33/100\n",
            "38/38 [==============================] - 1s 33ms/step - loss: 1.6036e-04\n",
            "Epoch 34/100\n",
            "38/38 [==============================] - 2s 54ms/step - loss: 1.7443e-04\n",
            "Epoch 35/100\n",
            "38/38 [==============================] - 1s 35ms/step - loss: 1.7882e-04\n",
            "Epoch 36/100\n",
            "38/38 [==============================] - 1s 32ms/step - loss: 1.7084e-04\n",
            "Epoch 37/100\n",
            "38/38 [==============================] - 1s 32ms/step - loss: 1.8946e-04\n",
            "Epoch 38/100\n",
            "38/38 [==============================] - 1s 34ms/step - loss: 1.6339e-04\n",
            "Epoch 39/100\n",
            "38/38 [==============================] - 1s 34ms/step - loss: 1.7045e-04\n",
            "Epoch 40/100\n",
            "38/38 [==============================] - 1s 32ms/step - loss: 1.6189e-04\n",
            "Epoch 41/100\n",
            "38/38 [==============================] - 1s 33ms/step - loss: 1.6567e-04\n",
            "Epoch 42/100\n",
            "38/38 [==============================] - 1s 33ms/step - loss: 1.6153e-04\n",
            "Epoch 43/100\n",
            "38/38 [==============================] - 2s 55ms/step - loss: 1.9660e-04\n",
            "Epoch 44/100\n",
            "38/38 [==============================] - 1s 33ms/step - loss: 1.7076e-04\n",
            "Epoch 45/100\n",
            "38/38 [==============================] - 1s 33ms/step - loss: 1.7344e-04\n",
            "Epoch 46/100\n",
            "38/38 [==============================] - 1s 34ms/step - loss: 2.0035e-04\n",
            "Epoch 47/100\n",
            "38/38 [==============================] - 1s 32ms/step - loss: 1.6364e-04\n",
            "Epoch 48/100\n",
            "38/38 [==============================] - 1s 31ms/step - loss: 1.6660e-04\n",
            "Epoch 49/100\n",
            "38/38 [==============================] - 1s 32ms/step - loss: 2.0118e-04\n",
            "Epoch 50/100\n",
            "38/38 [==============================] - 1s 33ms/step - loss: 2.1248e-04\n",
            "Epoch 51/100\n",
            "38/38 [==============================] - 1s 32ms/step - loss: 1.6478e-04\n",
            "Epoch 52/100\n",
            "38/38 [==============================] - 2s 49ms/step - loss: 1.7576e-04\n",
            "Epoch 53/100\n",
            "38/38 [==============================] - 1s 37ms/step - loss: 1.6391e-04\n",
            "Epoch 54/100\n",
            "38/38 [==============================] - 1s 32ms/step - loss: 1.7389e-04\n",
            "Epoch 55/100\n",
            "38/38 [==============================] - 1s 32ms/step - loss: 1.9001e-04\n",
            "Epoch 56/100\n",
            "38/38 [==============================] - 1s 31ms/step - loss: 1.7511e-04\n",
            "Epoch 57/100\n",
            "38/38 [==============================] - 1s 33ms/step - loss: 1.6222e-04\n",
            "Epoch 58/100\n",
            "38/38 [==============================] - 1s 31ms/step - loss: 2.1534e-04\n",
            "Epoch 59/100\n",
            "38/38 [==============================] - 1s 32ms/step - loss: 2.0334e-04\n",
            "Epoch 60/100\n",
            "38/38 [==============================] - 1s 32ms/step - loss: 1.7510e-04\n",
            "Epoch 61/100\n",
            "38/38 [==============================] - 2s 49ms/step - loss: 1.6642e-04\n",
            "Epoch 62/100\n",
            "38/38 [==============================] - 2s 41ms/step - loss: 1.5993e-04\n",
            "Epoch 63/100\n",
            "38/38 [==============================] - 1s 34ms/step - loss: 1.7021e-04\n",
            "Epoch 64/100\n",
            "38/38 [==============================] - 1s 32ms/step - loss: 1.6505e-04\n",
            "Epoch 65/100\n",
            "38/38 [==============================] - 1s 33ms/step - loss: 1.6336e-04\n",
            "Epoch 66/100\n",
            "38/38 [==============================] - 1s 33ms/step - loss: 1.6284e-04\n",
            "Epoch 67/100\n",
            "38/38 [==============================] - 1s 33ms/step - loss: 1.5839e-04\n",
            "Epoch 68/100\n",
            "38/38 [==============================] - 1s 33ms/step - loss: 1.7954e-04\n",
            "Epoch 69/100\n",
            "38/38 [==============================] - 1s 34ms/step - loss: 1.7202e-04\n",
            "Epoch 70/100\n",
            "38/38 [==============================] - 2s 50ms/step - loss: 1.6016e-04\n",
            "Epoch 71/100\n",
            "38/38 [==============================] - 1s 38ms/step - loss: 1.6172e-04\n",
            "Epoch 72/100\n",
            "38/38 [==============================] - 1s 34ms/step - loss: 1.6527e-04\n",
            "Epoch 73/100\n",
            "38/38 [==============================] - 1s 33ms/step - loss: 1.6617e-04\n",
            "Epoch 74/100\n",
            "38/38 [==============================] - 1s 33ms/step - loss: 1.6050e-04\n",
            "Epoch 75/100\n",
            "38/38 [==============================] - 1s 33ms/step - loss: 1.5915e-04\n",
            "Epoch 76/100\n",
            "38/38 [==============================] - 1s 33ms/step - loss: 1.7997e-04\n",
            "Epoch 77/100\n",
            "38/38 [==============================] - 1s 32ms/step - loss: 1.7854e-04\n",
            "Epoch 78/100\n",
            "38/38 [==============================] - 1s 32ms/step - loss: 2.0118e-04\n",
            "Epoch 79/100\n",
            "38/38 [==============================] - 2s 54ms/step - loss: 2.0667e-04\n",
            "Epoch 80/100\n",
            "38/38 [==============================] - 1s 35ms/step - loss: 1.5822e-04\n",
            "Epoch 81/100\n",
            "38/38 [==============================] - 1s 33ms/step - loss: 1.6966e-04\n",
            "Epoch 82/100\n",
            "38/38 [==============================] - 1s 32ms/step - loss: 1.8775e-04\n",
            "Epoch 83/100\n",
            "38/38 [==============================] - 1s 33ms/step - loss: 1.8176e-04\n",
            "Epoch 84/100\n",
            "38/38 [==============================] - 1s 32ms/step - loss: 1.5934e-04\n",
            "Epoch 85/100\n",
            "38/38 [==============================] - 1s 33ms/step - loss: 1.6420e-04\n",
            "Epoch 86/100\n",
            "38/38 [==============================] - 1s 33ms/step - loss: 1.7115e-04\n",
            "Epoch 87/100\n",
            "38/38 [==============================] - 1s 32ms/step - loss: 1.9230e-04\n",
            "Epoch 88/100\n",
            "38/38 [==============================] - 2s 54ms/step - loss: 1.8445e-04\n",
            "Epoch 89/100\n",
            "38/38 [==============================] - 1s 33ms/step - loss: 1.7475e-04\n",
            "Epoch 90/100\n",
            "38/38 [==============================] - 1s 32ms/step - loss: 1.8376e-04\n",
            "Epoch 91/100\n",
            "38/38 [==============================] - 1s 32ms/step - loss: 1.6873e-04\n",
            "Epoch 92/100\n",
            "38/38 [==============================] - 1s 32ms/step - loss: 1.6141e-04\n",
            "Epoch 93/100\n",
            "38/38 [==============================] - 1s 32ms/step - loss: 1.7148e-04\n",
            "Epoch 94/100\n",
            "38/38 [==============================] - 1s 31ms/step - loss: 1.7023e-04\n",
            "Epoch 95/100\n",
            "38/38 [==============================] - 1s 32ms/step - loss: 1.7487e-04\n",
            "Epoch 96/100\n",
            "38/38 [==============================] - 1s 32ms/step - loss: 1.6368e-04\n",
            "Epoch 97/100\n",
            "38/38 [==============================] - 2s 48ms/step - loss: 2.0165e-04\n",
            "Epoch 98/100\n",
            "38/38 [==============================] - 1s 38ms/step - loss: 1.7053e-04\n",
            "Epoch 99/100\n",
            "38/38 [==============================] - 1s 32ms/step - loss: 1.7253e-04\n",
            "Epoch 100/100\n",
            "38/38 [==============================] - 1s 32ms/step - loss: 1.8510e-04\n"
          ]
        },
        {
          "output_type": "execute_result",
          "data": {
            "text/plain": [
              "<keras.src.callbacks.History at 0x7b829c0597b0>"
            ]
          },
          "metadata": {},
          "execution_count": 36
        }
      ]
    },
    {
      "cell_type": "code",
      "source": [
        "dataset_test = pd.read_csv('testset.csv')"
      ],
      "metadata": {
        "id": "p6RVxO7tGTxr"
      },
      "execution_count": null,
      "outputs": []
    },
    {
      "cell_type": "code",
      "source": [
        "test_set = dataset_test.iloc[:,1:2].values"
      ],
      "metadata": {
        "id": "1JxHXs6fHHjD"
      },
      "execution_count": null,
      "outputs": []
    },
    {
      "cell_type": "code",
      "source": [
        "test_set.shape"
      ],
      "metadata": {
        "colab": {
          "base_uri": "https://localhost:8080/"
        },
        "id": "utzhAawYHJbG",
        "outputId": "34c61136-fd56-440f-8930-a66daa9c0bf6"
      },
      "execution_count": null,
      "outputs": [
        {
          "output_type": "execute_result",
          "data": {
            "text/plain": [
              "(125, 1)"
            ]
          },
          "metadata": {},
          "execution_count": 30
        }
      ]
    },
    {
      "cell_type": "code",
      "source": [
        "dataset_total = pd.concat((dataset_train['Open'],dataset_test['Open']),axis=0)"
      ],
      "metadata": {
        "id": "-qqTH_-_HL0O"
      },
      "execution_count": null,
      "outputs": []
    },
    {
      "cell_type": "code",
      "source": [
        "inputs = dataset_total.values\n",
        "inputs = inputs.reshape(-1,1)\n",
        "inputs_scaled=sc.transform(inputs)\n",
        "X_test = []\n",
        "for i in range(60,1384):\n",
        "  X_test.append(inputs_scaled[i-60:i,0])\n",
        "X_test = np.array(X_test)\n",
        "X_test = np.reshape(X_test,(X_test.shape[0], X_test.shape[1],1))"
      ],
      "metadata": {
        "id": "kkPgBj--HPR-"
      },
      "execution_count": null,
      "outputs": []
    },
    {
      "cell_type": "code",
      "source": [
        "X_test.shape"
      ],
      "metadata": {
        "colab": {
          "base_uri": "https://localhost:8080/"
        },
        "id": "9xu-XkmWHSgO",
        "outputId": "e473d802-17ce-4ee0-8835-e85c343c4d86"
      },
      "execution_count": null,
      "outputs": [
        {
          "output_type": "execute_result",
          "data": {
            "text/plain": [
              "(1324, 60, 1)"
            ]
          },
          "metadata": {},
          "execution_count": 33
        }
      ]
    },
    {
      "cell_type": "code",
      "source": [
        "predicted_stock_price_scaled = model.predict(X_test)\n",
        "predicted_stock_price = sc.inverse_transform(predicted_stock_price_scaled)"
      ],
      "metadata": {
        "colab": {
          "base_uri": "https://localhost:8080/"
        },
        "id": "zrpezggxHVAB",
        "outputId": "7035a66f-30e5-465e-90df-80a3bf401d2d"
      },
      "execution_count": null,
      "outputs": [
        {
          "output_type": "stream",
          "name": "stdout",
          "text": [
            "42/42 [==============================] - 1s 10ms/step\n"
          ]
        }
      ]
    },
    {
      "cell_type": "code",
      "source": [
        "print(\"Name:KULASEKARAPANDIAN K    Register Number:212222240052   \")\n",
        "plt.plot(np.arange(0,1384),inputs, color='red', label = 'Test(Real) Google stock price')\n",
        "plt.plot(np.arange(60,1384),predicted_stock_price, color='blue', label = 'Predicted Google stock price')\n",
        "plt.title('Google Stock Price Prediction')\n",
        "plt.xlabel('Time')\n",
        "plt.ylabel('Google Stock Price')\n",
        "plt.legend()\n",
        "plt.show()"
      ],
      "metadata": {
        "colab": {
          "base_uri": "https://localhost:8080/",
          "height": 489
        },
        "id": "LCNiwgZ4HXW3",
        "outputId": "8daca93d-cc31-44ce-b9eb-4cca0f354b8a"
      },
      "execution_count": null,
      "outputs": [
        {
          "output_type": "stream",
          "name": "stdout",
          "text": [
            "Name:KULASEKARAPANDIAN K    Register Number:212222240052   \n"
          ]
        },
        {
          "output_type": "display_data",
          "data": {
            "text/plain": [
              "<Figure size 640x480 with 1 Axes>"
            ],
            "image/png": "[encoded data removed]"
          },
          "metadata": {}
        }
      ]
    },
    {
      "cell_type": "code",
      "source": [],
      "metadata": {
        "id": "8NqZ6EZbHkA6"
      },
      "execution_count": null,
      "outputs": []
    }
  ]
}